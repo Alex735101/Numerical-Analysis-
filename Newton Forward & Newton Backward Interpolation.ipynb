{
  "nbformat": 4,
  "nbformat_minor": 0,
  "metadata": {
    "colab": {
      "name": "SARNALI SARKAR_ASSIGNMENT4",
      "provenance": []
    },
    "kernelspec": {
      "name": "python3",
      "display_name": "Python 3"
    },
    "language_info": {
      "name": "python"
    }
  },
  "cells": [
    {
      "cell_type": "markdown",
      "source": [
        "# **NEWTON FORWARD INTERPOLATION**:-\n",
        "Using Newton forward interpolation formulations  calculate the values of x=0.05  for  given values of x=0.1, 0.2, 0.3, 0.4, 0.5 with f(x)=e^(2x). Correct  upto 6 significant digits through python code.  Also graphically plotted it."
      ],
      "metadata": {
        "id": "z2WD_pxlv0mZ"
      }
    },
    {
      "cell_type": "code",
      "execution_count": null,
      "metadata": {
        "colab": {
          "base_uri": "https://localhost:8080/",
          "height": 834
        },
        "id": "_dPz6xSTrMfb",
        "outputId": "fa669090-6e3a-4c15-a2b3-7bc0ee77ecbe"
      },
      "outputs": [
        {
          "output_type": "stream",
          "name": "stdout",
          "text": [
            "How many records do you want to enter : 5\n",
            "Enter the f(x) where f(x) = 0 in numpy notation : np.exp(2*x)\n",
            "Enter the value of x0 : 0.1\n",
            "The value of f(0) : 1.2214027581601699\n",
            "Enter the value of x1 : 0.2\n",
            "The value of f(1) : 1.4918246976412703\n",
            "Enter the value of x2 : 0.3\n",
            "The value of f(2) : 1.8221188003905089\n",
            "Enter the value of x3 : 0.4\n",
            "The value of f(3) : 2.225540928492468\n",
            "Enter the value of x4 : 0.5\n",
            "The value of f(4) : 2.718281828459045\n",
            "----------------------------------------------------------------------\n",
            "x(i)\t\t y(i)\t\t y1(i)\t\t y2(i)\t\t y3(i)\n",
            "----------------------------------------------------------------------\n",
            "0.10\t\t1.22\t\t0.27\t\t0.06\t\t0.01\t\t0.00\n",
            "0.20\t\t1.49\t\t0.33\t\t0.07\t\t0.02\n",
            "0.30\t\t1.82\t\t0.40\t\t0.09\n",
            "0.40\t\t2.23\t\t0.49\n",
            "0.50\t\t2.72\n",
            "Enter value of x for finding f(x) : 0.05\n",
            "----------------------------------------------------------------------\n",
            "coefficient\t\t\t Multiplier\n",
            "----------------------------------------------------------------------\n",
            "1.000\t\t\t\t1.221403\n",
            "-0.500\t\t\t\t0.270422\n",
            "0.750\t\t\t\t0.059872\n",
            "-1.875\t\t\t\t0.013256\n",
            "6.562\t\t\t\t0.002935\n"
          ]
        },
        {
          "output_type": "display_data",
          "data": {
            "text/plain": [
              "<Figure size 432x288 with 1 Axes>"
            ],
            "image/png": "[encoded data removed]"
          },
          "metadata": {
            "needs_background": "light"
          }
        },
        {
          "output_type": "stream",
          "name": "stdout",
          "text": [
            "1.1053039002043332\n"
          ]
        }
      ],
      "source": [
        "import numpy as np\n",
        "import sympy as sym\n",
        "import matplotlib.pyplot as plt\n",
        "n = int(input('How many records do you want to enter : '))\n",
        "\n",
        "x = np.empty([n])\n",
        "y = np.empty([n, n])\n",
        "\n",
        "x_axis = np.array([])\n",
        "y_axis = np.array([])\n",
        "\n",
        "expr = input('Enter the f(x) where f(x) = 0 in numpy notation : ')\n",
        "def f(x0, expr):\n",
        "    x = sym.symbols('x')\n",
        "    val = eval(expr, {\"x\": x0, \"np\": np})\n",
        "    return val\n",
        "for i in range(n):\n",
        "    x[i] = float(input(f'Enter the value of x{i} : '))\n",
        "    y[i][0] = f(x[i], expr)\n",
        "\n",
        "    x_axis = np.append(x_axis, x[i])\n",
        "    y_axis = np.append(y_axis, y[i][0])\n",
        "\n",
        "    print(f'The value of f({i}) : {y[i][0]}')\n",
        "for i in range(1,n):\n",
        "    for j in range(n-i):\n",
        "        y[j][i] = y[j+1][i-1] - y[j][i-1]\n",
        "\n",
        "print('----------------------------------------------------------------------')\n",
        "print(f'x(i)\\t\\t y(i)\\t\\t y1(i)\\t\\t y2(i)\\t\\t y3(i)')\n",
        "print('----------------------------------------------------------------------')\n",
        "for i in range(n):\n",
        "    print('%0.2f' %(x[i]), end='')\n",
        "    for j in range(n-i):\n",
        "        print('\\t\\t%0.2f' %(y[i][j]), end='')\n",
        "    print()\n",
        "val = float(input(f\"Enter value of x for finding f(x) : \"))\n",
        "h = x[1] - x[0]\n",
        "u = (val - x[0])/h\n",
        "def coef_cal(n, u):\n",
        "    temp = u\n",
        "    if n == 0:\n",
        "        return temp\n",
        "    for i in range(1, n + 1):\n",
        "        temp *= (u - i)\n",
        "    return temp\n",
        "print('----------------------------------------------------------------------')\n",
        "print(f'coefficient\\t\\t\\t Multiplier')\n",
        "print('----------------------------------------------------------------------')\n",
        "\n",
        "for i in range(-1, n - 1):\n",
        "    if i == -1:\n",
        "        coef = 1\n",
        "    else:\n",
        "        coef = coef_cal(i, u)\n",
        "    mul = y[0][i + 1]\n",
        "    print(\"%0.3f\\t\\t\\t\\t%f\" %(coef, mul))    \n",
        "def final_cal():\n",
        "    sum = y[0][0]\n",
        "    for i in range(n - 1):\n",
        "        sum = sum + coef_cal(i, u)/np.math.factorial(i + 1)*y[0][i + 1]\n",
        "\n",
        "    return sum\n",
        "sum = final_cal()\n",
        "\n",
        "x_axis = np.append(x_axis, val)\n",
        "y_axis = np.append(y_axis, sum)\n",
        "font1 = {'family':'monospace','color':'maroon','size':20}\n",
        "font2 = {'family':'monospace','color':'maroon','size':20}\n",
        "font3 = {'family':'sans-serif','color':'indianred','size':25}\n",
        "\n",
        "plt.plot(x_axis, y_axis, marker = '*')\n",
        "plt.title('Plot of Newton forward interpolation', fontdict = font3)\n",
        "plt.xlabel(\"X\", fontdict = font1)\n",
        "plt.ylabel(\"Y\", fontdict = font2)\n",
        "plt.show()\n",
        "def main():\n",
        "    final_val = final_cal()\n",
        "    print(final_val)\n",
        "\n",
        "if __name__ == '__main__':\n",
        "    main()               "
      ]
    },
    {
      "cell_type": "markdown",
      "source": [
        "# **NEWTON BACKWARD INTERPOLATION**:-\n",
        "Using Newton backward interpolation formulations  calculate the values of x=0.37 for  given values of x=0.1, 0.2, 0.3, 0.4, 0.5 with f(x)=e^(2x). Correct  upto 6 significant digits through python code.  Also graphically plotted it."
      ],
      "metadata": {
        "id": "rUIUHk19wPNO"
      }
    },
    {
      "cell_type": "code",
      "source": [
        "import numpy as np\n",
        "import sympy as sym\n",
        "import matplotlib.pyplot as plt\n",
        "n = int(input('How many records do you want to enter : '))\n",
        "\n",
        "x = np.empty([n])\n",
        "y = np.empty([n, n])\n",
        "\n",
        "x_axis = np.array([])\n",
        "y_axis = np.array([])\n",
        "\n",
        "expr = input('Enter the f(x) where f(x) = 0 in numpy notation : ')\n",
        "def f(x0, expr):\n",
        "    x = sym.symbols('x')\n",
        "    val = eval(expr, {\"x\": x0, \"np\": np})\n",
        "    return val\n",
        "for i in range(n):\n",
        "    x[i] = float(input(f'Enter the value of x{i} : '))\n",
        "    y[i][0] = f(x[i], expr)\n",
        "\n",
        "    x_axis = np.append(x_axis, x[i])\n",
        "    y_axis = np.append(y_axis, y[i][0])\n",
        "\n",
        "    print(f'The value of f({i}) : {y[i][0]}')\n",
        "for i in range(1,n):\n",
        "    for j in range(n-i):\n",
        "        y[j][i] = y[j+1][i-1] - y[j][i-1]\n",
        "\n",
        "print('----------------------------------------------------------------------')\n",
        "print(f'x(i)\\t\\t y(i)\\t\\t y1(i)\\t\\t y2(i)\\t\\t y3(i)')\n",
        "print('----------------------------------------------------------------------')\n",
        "for i in range(n):\n",
        "    print('%0.2f' %(x[i]), end='')\n",
        "    for j in range(n-i):\n",
        "        print('\\t\\t%0.2f' %(y[i][j]), end='')\n",
        "    print()    \n",
        "val = float(input(f\"Enter value of x for finding f(x) : \"))\n",
        "h = x[1] - x[0]\n",
        "u = (val - x[n - 1])/h\n",
        "print(f'The Value of h is {h} and the value of u is {u}') \n",
        "def coef_cal(n, u):\n",
        "    temp = u\n",
        "    if n == 1:\n",
        "        return temp\n",
        "    for i in range(1, n):\n",
        "        temp *= (u + i)\n",
        "    return temp\n",
        "print('----------------------------------------------------------------------')\n",
        "print(f'coefficient\\t\\t\\t Multiplier')\n",
        "print('----------------------------------------------------------------------')\n",
        "\n",
        "for i in range(n - 1):\n",
        "    if i == 0:\n",
        "        coef = 1\n",
        "    else:\n",
        "        coef = coef_cal(i, u)\n",
        "    mul = y[(n - 1) - i][i]\n",
        "    print(\"%0.3f\\t\\t\\t\\t%f\" %(coef, mul))\n",
        "def final_cal():\n",
        "    sum = y[n - 1][0]\n",
        "    for i in range(1, n):\n",
        "        sum = sum + coef_cal(i, u)/np.math.factorial(i)*y[(n - 1) - i][i]\n",
        "\n",
        "    return sum\n",
        "sum = final_cal()\n",
        "\n",
        "x_axis = np.append(x_axis, val)\n",
        "y_axis = np.append(y_axis, sum)\n",
        "font1 = {'family':'monospace','color':'maroon','size':20}\n",
        "font2 = {'family':'monospace','color':'maroon','size':20}\n",
        "font3 = {'family':'sans-serif','color':'indianred','size':25}\n",
        "\n",
        "plt.plot(x_axis, y_axis, marker = '*')\n",
        "plt.title('Plot of Newton forward interpolation', fontdict = font3)\n",
        "plt.xlabel(\"X\", fontdict = font1)\n",
        "plt.ylabel(\"Y\", fontdict = font2)\n",
        "plt.show()\n",
        "def main():\n",
        "    final_val = final_cal()\n",
        "    print(final_val)\n",
        "\n",
        "if __name__ == '__main__':\n",
        "    main()                   "
      ],
      "metadata": {
        "colab": {
          "base_uri": "https://localhost:8080/",
          "height": 834
        },
        "id": "Id3XUqLcwYKt",
        "outputId": "34bf8252-843a-4d7b-c50a-1c13561f1947"
      },
      "execution_count": null,
      "outputs": [
        {
          "output_type": "stream",
          "name": "stdout",
          "text": [
            "How many records do you want to enter : 5\n",
            "Enter the f(x) where f(x) = 0 in numpy notation : np.exp(2*x)\n",
            "Enter the value of x0 : 0.1\n",
            "The value of f(0) : 1.2214027581601699\n",
            "Enter the value of x1 : 0.2\n",
            "The value of f(1) : 1.4918246976412703\n",
            "Enter the value of x2 : 0.3\n",
            "The value of f(2) : 1.8221188003905089\n",
            "Enter the value of x3 : 0.4\n",
            "The value of f(3) : 2.225540928492468\n",
            "Enter the value of x4 : 0.5\n",
            "The value of f(4) : 2.718281828459045\n",
            "----------------------------------------------------------------------\n",
            "x(i)\t\t y(i)\t\t y1(i)\t\t y2(i)\t\t y3(i)\n",
            "----------------------------------------------------------------------\n",
            "0.10\t\t1.22\t\t0.27\t\t0.06\t\t0.01\t\t0.00\n",
            "0.20\t\t1.49\t\t0.33\t\t0.07\t\t0.02\n",
            "0.30\t\t1.82\t\t0.40\t\t0.09\n",
            "0.40\t\t2.23\t\t0.49\n",
            "0.50\t\t2.72\n",
            "Enter value of x for finding f(x) : 0.35\n",
            "The Value of h is 0.1 and the value of u is -1.5000000000000002\n",
            "----------------------------------------------------------------------\n",
            "coefficient\t\t\t Multiplier\n",
            "----------------------------------------------------------------------\n",
            "1.000\t\t\t\t2.718282\n",
            "-1.500\t\t\t\t0.492741\n",
            "0.750\t\t\t\t0.089319\n",
            "0.375\t\t\t\t0.016191\n"
          ]
        },
        {
          "output_type": "display_data",
          "data": {
            "text/plain": [
              "<Figure size 432x288 with 1 Axes>"
            ],
            "image/png": "[encoded data removed]"
          },
          "metadata": {
            "needs_background": "light"
          }
        },
        {
          "output_type": "stream",
          "name": "stdout",
          "text": [
            "2.01374572596917\n"
          ]
        }
      ]
    }
  ]
}