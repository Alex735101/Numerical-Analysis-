{
  "nbformat": 4,
  "nbformat_minor": 0,
  "metadata": {
    "colab": {
      "name": "Copy of  Copy of ASSIGNMENT1_SARNALI SARKAR",
      "provenance": [],
      "collapsed_sections": [],
      "toc_visible": true
    },
    "kernelspec": {
      "name": "python3",
      "display_name": "Python 3"
    },
    "language_info": {
      "name": "python"
    }
  },
  "cells": [
    {
      "cell_type": "markdown",
      "source": [
        "## TRUNCATION ERROR"
      ],
      "metadata": {
        "id": "z_7AMacpnbEW"
      }
    },
    {
      "cell_type": "code",
      "source": [
        "import math\n",
        "\n",
        "def truncation_error():\n",
        "  x=float(input(\"Enter the exponent value of e:\"))\n",
        "  z = math.exp(x)\n",
        "  t = round(math.exp(x), 2)\n",
        "  Et=abs(z-t)\n",
        "  r=int(input(\"Enter the round of value:\"))\n",
        "  rnd= round(Et,r)\n",
        "  print(\"Round off Error value is=\",rnd)\n",
        "\n",
        "\n",
        "truncation_error()"
      ],
      "metadata": {
        "colab": {
          "base_uri": "https://localhost:8080/"
        },
        "id": "CyAlnyJenj5E",
        "outputId": "7a202cff-c661-4a07-e625-1d920d233fd8"
      },
      "execution_count": null,
      "outputs": [
        {
          "output_type": "stream",
          "name": "stdout",
          "text": [
            "Enter the exponent of e:3\n",
            "Enter the round of value:5\n",
            "Round off Error value is= 0.00446\n"
          ]
        }
      ]
    },
    {
      "cell_type": "markdown",
      "source": [
        ""
      ],
      "metadata": {
        "id": "x01oTkDgwl1t"
      }
    },
    {
      "cell_type": "markdown",
      "source": [
        "## **ABSOLUTE ERROR**"
      ],
      "metadata": {
        "id": "VZ_ckgHQp5AC"
      }
    },
    {
      "cell_type": "code",
      "source": [
        " import math\n",
        "\n",
        " def absolute_error():\n",
        "  x=float(input(\"Enter the exponent value of e:\"))\n",
        "  z = math.exp(x)\n",
        "  t = round(math.exp(x), 2)\n",
        "  Ea=abs(z-t)\n",
        "  r=int(input(\"Enter the round of value:\"))\n",
        "  rnd= round(Ea,r)\n",
        "  print(\"Round off Error value is=\",rnd)\n",
        "\n",
        "absolute_error()"
      ],
      "metadata": {
        "colab": {
          "base_uri": "https://localhost:8080/"
        },
        "id": "0wmiwbGspdGy",
        "outputId": "5ba42be2-23d2-4370-d9f5-4a930910a707"
      },
      "execution_count": null,
      "outputs": [
        {
          "output_type": "stream",
          "name": "stdout",
          "text": [
            "Enter the exponent value of e:3\n",
            "Enter the round of value:5\n",
            "Round off Error value is= 0.00446\n"
          ]
        }
      ]
    },
    {
      "cell_type": "markdown",
      "source": [
        "# RELATIVE ERROR"
      ],
      "metadata": {
        "id": "hS0MrUj1qYnM"
      }
    },
    {
      "cell_type": "code",
      "source": [
        "import math\n",
        "\n",
        "def relative_error():\n",
        "  x=float(input(\"Enter the exponent value of e:\"))\n",
        "  z = math.exp(x)\n",
        "  t = round(math.exp(x), 2)\n",
        "  Er=abs((z-t)/z)\n",
        "  r=int(input(\"Enter the round of value:\"))\n",
        "  rnd= round(Er,r)\n",
        "  print(\"Round off Error value is=\",rnd)\n",
        "\n",
        "\n",
        "relative_error()"
      ],
      "metadata": {
        "colab": {
          "base_uri": "https://localhost:8080/"
        },
        "id": "3uhnpzxOqdXy",
        "outputId": "d79505aa-cec9-458c-9d96-01b7ed506832"
      },
      "execution_count": null,
      "outputs": [
        {
          "output_type": "stream",
          "name": "stdout",
          "text": [
            "Enter the exponent value of e:3\n",
            "Enter the round of value:5\n",
            "Round off Error value is= 0.00022\n"
          ]
        }
      ]
    },
    {
      "cell_type": "markdown",
      "source": [
        "# PERCENTAGE ERROR"
      ],
      "metadata": {
        "id": "Rjhc4FrnrD-X"
      }
    },
    {
      "cell_type": "code",
      "source": [
        "import math\n",
        "\n",
        "def percentage_error():\n",
        "  x=float(input(\"Enter the exponent value of e:\"))\n",
        "  z = math.exp(x)\n",
        "  t = round(math.exp(x), 2)\n",
        "  Ep=abs((z-t)/z)*100\n",
        "  r=int(input(\"Enter the round of value:\"))\n",
        "  rnd= round(Ep,r)\n",
        "  print(\"Round off Error value is=\",rnd)\n",
        "\n",
        "percentage_error()"
      ],
      "metadata": {
        "colab": {
          "base_uri": "https://localhost:8080/"
        },
        "id": "if90EWWNrV-n",
        "outputId": "220c8961-f907-45b1-871d-81fef12b6388"
      },
      "execution_count": null,
      "outputs": [
        {
          "output_type": "stream",
          "name": "stdout",
          "text": [
            "Enter the exponent value of e:3\n",
            "Enter the round of value:5\n",
            "Round off Error value is= 0.02222\n"
          ]
        }
      ]
    }
  ]
}